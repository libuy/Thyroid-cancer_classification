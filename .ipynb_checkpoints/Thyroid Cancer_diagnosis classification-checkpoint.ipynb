{
 "cells": [
  {
   "cell_type": "code",
   "execution_count": null,
   "id": "abab43d8-7f03-4392-83b3-7b45af739f78",
   "metadata": {},
   "outputs": [],
   "source": [
    "# Thyroid Cancer Classification - XGBoost + SMOTE\n",
    "\n",
    "# ==============================================\n",
    "# 개발환경 및 정보\n",
    "# ==============================================\n",
    "# OS: Windows 10 (제출 시 Linux 호환 필요)\n",
    "# Python: 3.9.13\n",
    "# pandas==2.2.3\n",
    "# numpy==2.2.4\n",
    "# scikit-learn==1.6.1\n",
    "# xgboost==2.1.1\n",
    "# lightgbm==4.3.0\n",
    "# matplotlib==3.10.0\n",
    "# seaborn==0.13.2\n",
    "# imbalanced-learn==0.13.0"
   ]
  },
  {
   "cell_type": "code",
   "execution_count": 8,
   "id": "0987878d-de5b-4f2f-ad3a-6c41c621bfbf",
   "metadata": {},
   "outputs": [
    {
     "name": "stdout",
     "output_type": "stream",
     "text": [
      "Python Version: 3.13.2 | packaged by Anaconda, Inc. | (main, Feb  6 2025, 18:49:14) [MSC v.1929 64 bit (AMD64)]\n",
      "OS: Windows\n"
     ]
    }
   ],
   "source": [
    "# ==============================================\n",
    "# 1. 라이브러리 로딩\n",
    "# ==============================================\n",
    "import pandas as pd\n",
    "import numpy as np\n",
    "import os\n",
    "import platform\n",
    "import sys\n",
    "\n",
    "from sklearn.model_selection import train_test_split\n",
    "from sklearn.preprocessing import LabelEncoder\n",
    "from sklearn.metrics import f1_score, classification_report, confusion_matrix, precision_recall_curve\n",
    "from xgboost import XGBClassifier\n",
    "from lightgbm import LGBMClassifier\n",
    "from catboost import CatBoostClassifier\n",
    "from sklearn.ensemble import RandomForestClassifier\n",
    "from imblearn.over_sampling import SMOTE\n",
    "import matplotlib.pyplot as plt\n",
    "import seaborn as sns\n",
    "\n",
    "print(\"Python Version:\", sys.version)\n",
    "print(\"OS:\", platform.system())"
   ]
  },
  {
   "cell_type": "code",
   "execution_count": 10,
   "id": "66ab07c0-4c5f-4529-9a29-54a59b08eace",
   "metadata": {},
   "outputs": [],
   "source": [
    "# ==============================================\n",
    "# 2. 데이터 로드\n",
    "# ==============================================\n",
    "\n",
    "# 로컬과 제출 환경 호환을 위한 경로 자동 설정\n",
    "def get_path(filename):\n",
    "    return \"/data/\" + filename if os.path.exists(\"/data\") else \"data/\" + filename\n",
    "\n",
    "train = pd.read_csv(get_path(\"train.csv\"))\n",
    "test = pd.read_csv(get_path(\"test.csv\"))\n",
    "sample_submission = pd.read_csv(get_path(\"sample_submission.csv\"))"
   ]
  },
  {
   "cell_type": "code",
   "execution_count": 11,
   "id": "0ea0bc11-14a5-4366-ab82-3faa55b442be",
   "metadata": {},
   "outputs": [],
   "source": [
    "# ==============================================\n",
    "# 3. 전처리\n",
    "# ==============================================\n",
    "X = train.drop(columns=['ID', 'Cancer'])\n",
    "y = train['Cancer']\n",
    "X_test = test.drop(columns=['ID'])\n",
    "\n",
    "categorical_cols = X.select_dtypes(include='object').columns\n",
    "for col in categorical_cols:\n",
    "    le = LabelEncoder()\n",
    "    X[col] = le.fit_transform(X[col])\n",
    "    X_test[col] = X_test[col].map(lambda s: '<UNK>' if s not in le.classes_ else s)\n",
    "    le.classes_ = np.append(le.classes_, '<UNK>')\n",
    "    X_test[col] = le.transform(X_test[col])\n"
   ]
  },
  {
   "cell_type": "code",
   "execution_count": 12,
   "id": "f11fae62-1d58-4bf0-a966-a092c399d804",
   "metadata": {},
   "outputs": [],
   "source": [
    "# ==============================================\n",
    "# 4. Train/Validation Split + SMOTE\n",
    "# ==============================================\n",
    "X_train, X_val, y_train, y_val = train_test_split(X, y, test_size=0.2, stratify=y, random_state=42)\n",
    "\n",
    "smote = SMOTE(random_state=42)\n",
    "X_train_res, y_train_res = smote.fit_resample(X_train, y_train)"
   ]
  },
  {
   "cell_type": "code",
   "execution_count": 14,
   "id": "d708840c-a522-4b97-88a7-aab67befef4d",
   "metadata": {},
   "outputs": [
    {
     "name": "stdout",
     "output_type": "stream",
     "text": [
      "[LightGBM] [Info] Number of positive: 61360, number of negative: 61360\n",
      "[LightGBM] [Info] Auto-choosing row-wise multi-threading, the overhead of testing was 0.004511 seconds.\n",
      "You can set `force_row_wise=true` to remove the overhead.\n",
      "And if memory is not enough, you can set `force_col_wise=true`.\n",
      "[LightGBM] [Info] Total Bins 1125\n",
      "[LightGBM] [Info] Number of data points in the train set: 122720, number of used features: 14\n",
      "[LightGBM] [Info] [binary:BoostFromScore]: pavg=0.500000 -> initscore=0.000000\n"
     ]
    },
    {
     "data": {
      "text/plain": [
       "<catboost.core.CatBoostClassifier at 0x18f6d13f5c0>"
      ]
     },
     "execution_count": 14,
     "metadata": {},
     "output_type": "execute_result"
    }
   ],
   "source": [
    "# ==============================================\n",
    "# 5. 앙상블 모델 학습 (XGB + LGBM + RF + CatBoost)\n",
    "# ==============================================\n",
    "xgb = XGBClassifier(random_state=42, eval_metric='logloss')\n",
    "lgbm = LGBMClassifier(random_state=42)\n",
    "rf = RandomForestClassifier(random_state=42)\n",
    "cat = CatBoostClassifier(verbose=0, random_state=42)\n",
    "\n",
    "xgb.fit(X_train_res, y_train_res)\n",
    "lgbm.fit(X_train_res, y_train_res)\n",
    "rf.fit(X_train_res, y_train_res)\n",
    "cat.fit(X_train_res, y_train_res)"
   ]
  },
  {
   "cell_type": "code",
   "execution_count": 15,
   "id": "476875e5-40c5-4a00-8536-1d108e462e0a",
   "metadata": {},
   "outputs": [
    {
     "name": "stdout",
     "output_type": "stream",
     "text": [
      "Best threshold: 0.5293, Best F1 Score: 0.3461\n"
     ]
    }
   ],
   "source": [
    "# ==============================================\n",
    "# 6. Threshold 최적화 (Soft Voting)\n",
    "# ==============================================\n",
    "xgb_pred = xgb.predict_proba(X_val)[:, 1]\n",
    "lgbm_pred = lgbm.predict_proba(X_val)[:, 1]\n",
    "rf_pred = rf.predict_proba(X_val)[:, 1]\n",
    "\n",
    "ensemble_prob = (xgb_pred + lgbm_pred + rf_pred) / 3\n",
    "\n",
    "precisions, recalls, thresholds = precision_recall_curve(y_val, ensemble_prob)\n",
    "f1s = 2 * (precisions * recalls) / (precisions + recalls + 1e-8)\n",
    "\n",
    "best_idx = np.argmax(f1s)\n",
    "best_threshold = thresholds[best_idx]\n",
    "print(f\"Best threshold: {best_threshold:.4f}, Best F1 Score: {f1s[best_idx]:.4f}\")"
   ]
  },
  {
   "cell_type": "code",
   "execution_count": 16,
   "id": "fba63101-abd3-4bf2-8e18-0da25b46ac94",
   "metadata": {},
   "outputs": [
    {
     "name": "stdout",
     "output_type": "stream",
     "text": [
      "              precision    recall  f1-score   support\n",
      "\n",
      "           0       0.92      0.86      0.89     15340\n",
      "           1       0.29      0.43      0.35      2092\n",
      "\n",
      "    accuracy                           0.81     17432\n",
      "   macro avg       0.60      0.64      0.62     17432\n",
      "weighted avg       0.84      0.81      0.82     17432\n",
      "\n",
      "Confusion Matrix:\n",
      " [[13174  2166]\n",
      " [ 1201   891]]\n"
     ]
    }
   ],
   "source": [
    "# ==============================================\n",
    "# 7. 성능 평가 지표 출력\n",
    "# ==============================================\n",
    "y_val_pred = (ensemble_prob >= best_threshold).astype(int)\n",
    "print(classification_report(y_val, y_val_pred))\n",
    "print(\"Confusion Matrix:\\n\", confusion_matrix(y_val, y_val_pred))"
   ]
  },
  {
   "cell_type": "code",
   "execution_count": 17,
   "id": "b2947355-fdde-4404-9383-f1f0dabbd8e7",
   "metadata": {},
   "outputs": [
    {
     "name": "stdout",
     "output_type": "stream",
     "text": [
      "\n",
      "제출 파일이 저장되었습니다 → data/submission.csv\n"
     ]
    }
   ],
   "source": [
    "# ==============================================\n",
    "# 8. 테스트 데이터 예측 및 제출 저장\n",
    "# ==============================================\n",
    "xgb_test = xgb.predict_proba(X_test)[:, 1]\n",
    "lgbm_test = lgbm.predict_proba(X_test)[:, 1]\n",
    "rf_test = rf.predict_proba(X_test)[:, 1]\n",
    "\n",
    "ensemble_test_prob = (xgb_test + lgbm_test + rf_test) / 3\n",
    "final_pred = (ensemble_test_prob >= best_threshold).astype(int)\n",
    "\n",
    "sample_submission['Cancer'] = final_pred\n",
    "sample_submission.to_csv(get_path(\"submission.csv\"), index=False)\n",
    "\n",
    "print(\"\\n제출 파일이 저장되었습니다 →\", get_path(\"submission.csv\"))\n"
   ]
  },
  {
   "cell_type": "code",
   "execution_count": null,
   "id": "7e473023-9c8d-405d-8982-9ca9b2d5cc63",
   "metadata": {},
   "outputs": [],
   "source": []
  }
 ],
 "metadata": {
  "kernelspec": {
   "display_name": "Python (testvenv)",
   "language": "python",
   "name": "testvenv"
  },
  "language_info": {
   "codemirror_mode": {
    "name": "ipython",
    "version": 3
   },
   "file_extension": ".py",
   "mimetype": "text/x-python",
   "name": "python",
   "nbconvert_exporter": "python",
   "pygments_lexer": "ipython3",
   "version": "3.13.2"
  }
 },
 "nbformat": 4,
 "nbformat_minor": 5
}
