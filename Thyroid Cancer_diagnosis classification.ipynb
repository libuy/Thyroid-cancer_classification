{
 "cells": [
  {
   "cell_type": "code",
   "execution_count": 39,
   "id": "abab43d8-7f03-4392-83b3-7b45af739f78",
   "metadata": {},
   "outputs": [],
   "source": [
    "# Thyroid Cancer Classification - XGBoost + SMOTE\n",
    "\n",
    "# ==============================================\n",
    "# 개발환경 및 정보\n",
    "# ==============================================\n",
    "# OS: Windows 10\n",
    "# Python: 3.9.13\n",
    "# 사용 라이브러리 및 버전:\n",
    "# pandas==2.2.3\n",
    "# numpy==2.2.4\n",
    "# scikit-learn==1.6.1\n",
    "# imbalanced-learn==0.13.0\n",
    "# xgboost==2.1.1\n",
    "# matplotlib==3.10.0\n",
    "# seaborn==0.13.2\n",
    "# 기타: ipykernel, joblib, scipy, etc.\n",
    "# 제출 파일: submission.csv (sample_submission.csv와 동일 형식 유지)"
   ]
  },
  {
   "cell_type": "code",
   "execution_count": 40,
   "id": "0987878d-de5b-4f2f-ad3a-6c41c621bfbf",
   "metadata": {},
   "outputs": [
    {
     "name": "stdout",
     "output_type": "stream",
     "text": [
      "Python Version: 3.13.2 | packaged by Anaconda, Inc. | (main, Feb  6 2025, 18:49:14) [MSC v.1929 64 bit (AMD64)]\n",
      "OS: Windows\n"
     ]
    }
   ],
   "source": [
    "# ==============================================\n",
    "# 1. 라이브러리 로딩\n",
    "# ==============================================\n",
    "import pandas as pd\n",
    "import numpy as np\n",
    "import platform\n",
    "import sys\n",
    "import os\n",
    "\n",
    "from sklearn.model_selection import train_test_split\n",
    "from sklearn.preprocessing import LabelEncoder\n",
    "from sklearn.metrics import f1_score, classification_report, confusion_matrix, precision_recall_curve\n",
    "from xgboost import XGBClassifier\n",
    "from imblearn.over_sampling import SMOTE\n",
    "import matplotlib.pyplot as plt\n",
    "import seaborn as sns\n",
    "\n",
    "print(\"Python Version:\", sys.version)\n",
    "print(\"OS:\", platform.system())"
   ]
  },
  {
   "cell_type": "code",
   "execution_count": 41,
   "id": "66ab07c0-4c5f-4529-9a29-54a59b08eace",
   "metadata": {},
   "outputs": [],
   "source": [
    "# ==============================================\n",
    "# 2. 데이터 로드\n",
    "# ==============================================\n",
    "\n",
    "# 로컬과 제출 환경 호환을 위한 경로 자동 설정\n",
    "def get_path(filename):\n",
    "    return \"/data/\" + filename if os.path.exists(\"/data\") else \"data/\" + filename\n",
    "\n",
    "train = pd.read_csv(get_path(\"train.csv\"))\n",
    "test = pd.read_csv(get_path(\"test.csv\"))\n",
    "sample_submission = pd.read_csv(get_path(\"sample_submission.csv\"))"
   ]
  },
  {
   "cell_type": "code",
   "execution_count": 42,
   "id": "0ea0bc11-14a5-4366-ab82-3faa55b442be",
   "metadata": {},
   "outputs": [],
   "source": [
    "# ==============================================\n",
    "# 3. 전처리\n",
    "# ==============================================\n",
    "X = train.drop(columns=['ID', 'Cancer'])\n",
    "y = train['Cancer']\n",
    "X_test = test.drop(columns=['ID'])\n",
    "\n",
    "categorical_cols = X.select_dtypes(include='object').columns\n",
    "for col in categorical_cols:\n",
    "    le = LabelEncoder()\n",
    "    X[col] = le.fit_transform(X[col])\n",
    "    X_test[col] = X_test[col].map(lambda s: '<UNK>' if s not in le.classes_ else s)\n",
    "    le.classes_ = np.append(le.classes_, '<UNK>')\n",
    "    X_test[col] = le.transform(X_test[col])"
   ]
  },
  {
   "cell_type": "code",
   "execution_count": 43,
   "id": "f11fae62-1d58-4bf0-a966-a092c399d804",
   "metadata": {},
   "outputs": [],
   "source": [
    "# ==============================================\n",
    "# 4. Train/Validation Split + SMOTE\n",
    "# ==============================================\n",
    "X_train, X_val, y_train, y_val = train_test_split(X, y, test_size=0.2, stratify=y, random_state=42)\n",
    "\n",
    "smote = SMOTE(random_state=42)\n",
    "X_train_res, y_train_res = smote.fit_resample(X_train, y_train)\n"
   ]
  },
  {
   "cell_type": "code",
   "execution_count": 44,
   "id": "d708840c-a522-4b97-88a7-aab67befef4d",
   "metadata": {},
   "outputs": [
    {
     "name": "stdout",
     "output_type": "stream",
     "text": [
      "모델 학습 완료\n"
     ]
    }
   ],
   "source": [
    "# ==============================================\n",
    "# 5. 모델 학습\n",
    "# ==============================================\n",
    "model = XGBClassifier(random_state=42, eval_metric='logloss')\n",
    "model.fit(X_train_res, y_train_res)\n",
    "print(\"모델 학습 완료\")"
   ]
  },
  {
   "cell_type": "code",
   "execution_count": 45,
   "id": "476875e5-40c5-4a00-8536-1d108e462e0a",
   "metadata": {},
   "outputs": [
    {
     "name": "stdout",
     "output_type": "stream",
     "text": [
      "Best Threshold: 0.6728, Best F1 Score: 0.3444\n"
     ]
    }
   ],
   "source": [
    "# ==============================================\n",
    "# 6. Threshold 최적화\n",
    "# ==============================================\n",
    "y_val_prob = model.predict_proba(X_val)[:, 1]\n",
    "precisions, recalls, thresholds = precision_recall_curve(y_val, y_val_prob)\n",
    "f1s = 2 * (precisions * recalls) / (precisions + recalls + 1e-8)\n",
    "\n",
    "best_idx = np.argmax(f1s)\n",
    "best_threshold = thresholds[best_idx]\n",
    "print(f\"Best Threshold: {best_threshold:.4f}, Best F1 Score: {f1s[best_idx]:.4f}\")"
   ]
  },
  {
   "cell_type": "code",
   "execution_count": 46,
   "id": "fba63101-abd3-4bf2-8e18-0da25b46ac94",
   "metadata": {},
   "outputs": [
    {
     "name": "stdout",
     "output_type": "stream",
     "text": [
      "              precision    recall  f1-score   support\n",
      "\n",
      "           0       0.91      0.91      0.91     15340\n",
      "           1       0.35      0.34      0.34      2092\n",
      "\n",
      "    accuracy                           0.84     17432\n",
      "   macro avg       0.63      0.63      0.63     17432\n",
      "weighted avg       0.84      0.84      0.84     17432\n",
      "\n",
      "Confusion Matrix:\n",
      " [[14000  1340]\n",
      " [ 1378   714]]\n"
     ]
    }
   ],
   "source": [
    "# ==============================================\n",
    "# 7. 성능 평가 지표 출력\n",
    "# ==============================================\n",
    "y_val_pred = (y_val_prob >= best_threshold).astype(int)\n",
    "print(classification_report(y_val, y_val_pred))\n",
    "print(\"Confusion Matrix:\\n\", confusion_matrix(y_val, y_val_pred))\n"
   ]
  },
  {
   "cell_type": "code",
   "execution_count": 47,
   "id": "b2947355-fdde-4404-9383-f1f0dabbd8e7",
   "metadata": {},
   "outputs": [
    {
     "name": "stdout",
     "output_type": "stream",
     "text": [
      "\n",
      "제출 파일이 저장되었습니다 → data/submission.csv\n"
     ]
    }
   ],
   "source": [
    "# ==============================================\n",
    "# 8. 테스트 데이터 예측 및 제출 저장\n",
    "# ==============================================\n",
    "final_pred = (model.predict_proba(X_test)[:, 1] >= best_threshold).astype(int)\n",
    "sample_submission['Cancer'] = final_pred\n",
    "sample_submission.to_csv(get_path(\"submission.csv\"), index=False)\n",
    "\n",
    "print(\"\\n제출 파일이 저장되었습니다 →\", get_path(\"submission.csv\"))"
   ]
  },
  {
   "cell_type": "code",
   "execution_count": null,
   "id": "7e473023-9c8d-405d-8982-9ca9b2d5cc63",
   "metadata": {},
   "outputs": [],
   "source": []
  }
 ],
 "metadata": {
  "kernelspec": {
   "display_name": "Python (testvenv)",
   "language": "python",
   "name": "testvenv"
  },
  "language_info": {
   "codemirror_mode": {
    "name": "ipython",
    "version": 3
   },
   "file_extension": ".py",
   "mimetype": "text/x-python",
   "name": "python",
   "nbconvert_exporter": "python",
   "pygments_lexer": "ipython3",
   "version": "3.13.2"
  }
 },
 "nbformat": 4,
 "nbformat_minor": 5
}
